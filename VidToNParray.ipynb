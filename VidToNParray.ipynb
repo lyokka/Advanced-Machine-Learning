{
 "cells": [
  {
   "cell_type": "code",
   "execution_count": 24,
   "metadata": {
    "collapsed": true
   },
   "outputs": [],
   "source": [
    "import skvideo.io\n",
    "import numpy as np\n",
    "import random\n",
    "import os\n",
    "vid1 = skvideo.io.vread('VideoDataSet/g0.avi')\n",
    "vid2 = skvideo.io.vread('VideoDataSet/t0.avi')"
   ]
  },
  {
   "cell_type": "code",
   "execution_count": 25,
   "metadata": {
    "collapsed": false
   },
   "outputs": [],
   "source": [
    "vid_batch = np.empty((5000, 5, 32, 32, 3))\n",
    "vid_label = np.zeros((5000, 2))"
   ]
  },
  {
   "cell_type": "code",
   "execution_count": 26,
   "metadata": {
    "collapsed": false,
    "scrolled": true
   },
   "outputs": [
    {
     "name": "stdout",
     "output_type": "stream",
     "text": [
      "0.0\n",
      "0.2\n",
      "0.4\n",
      "0.6\n",
      "0.8\n"
     ]
    }
   ],
   "source": [
    "for i in range(0, 5000, 2):\n",
    "    vid_g = skvideo.io.vread('VideoDataSet/g{}.avi'.format(i))\n",
    "    vid_t = skvideo.io.vread('VideoDataSet/t{}.avi'.format(i))\n",
    "    \n",
    "    vid_batch[i,:,:,:,:] = vid_g\n",
    "    vid_batch[i+1,:,:,:,:] = vid_t\n",
    "    \n",
    "    vid_label[i, 0] = 1\n",
    "    vid_label[i+1, 1] = 1\n",
    "    \n",
    "    if i % 1000 == 0:\n",
    "        print('{}'.format(i/5000))"
   ]
  },
  {
   "cell_type": "code",
   "execution_count": 4,
   "metadata": {
    "collapsed": false
   },
   "outputs": [],
   "source": [
    "ind = np.arange(5000)\n",
    "np.random.shuffle(ind)\n",
    "tra_ind = ind[0:4000]\n",
    "tes_ind = ind[4000:]"
   ]
  },
  {
   "cell_type": "code",
   "execution_count": 5,
   "metadata": {
    "collapsed": false
   },
   "outputs": [],
   "source": [
    "vid_tra = vid_batch[tra_ind, :, :, :, :]\n",
    "vid_tra_label = vid_label[tra_ind]\n",
    "vid_tes = vid_batch[tes_ind, :, :, :, :]\n",
    "vid_tes_label = vid_label[tes_ind]\n"
   ]
  },
  {
   "cell_type": "code",
   "execution_count": 2,
   "metadata": {
    "collapsed": false
   },
   "outputs": [
    {
     "ename": "NameError",
     "evalue": "name 'vid_tra' is not defined",
     "output_type": "error",
     "traceback": [
      "\u001b[0;31m---------------------------------------------------------------------------\u001b[0m",
      "\u001b[0;31mNameError\u001b[0m                                 Traceback (most recent call last)",
      "\u001b[0;32m<ipython-input-2-a36ca2e6777c>\u001b[0m in \u001b[0;36m<module>\u001b[0;34m()\u001b[0m\n\u001b[0;32m----> 1\u001b[0;31m \u001b[0mnp\u001b[0m\u001b[0;34m.\u001b[0m\u001b[0msave\u001b[0m\u001b[0;34m(\u001b[0m\u001b[0;34m'VideoDataNpy/vid_tra.npy'\u001b[0m\u001b[0;34m,\u001b[0m \u001b[0mvid_tra\u001b[0m\u001b[0;34m)\u001b[0m\u001b[0;34m\u001b[0m\u001b[0m\n\u001b[0m\u001b[1;32m      2\u001b[0m \u001b[0mnp\u001b[0m\u001b[0;34m.\u001b[0m\u001b[0msave\u001b[0m\u001b[0;34m(\u001b[0m\u001b[0;34m'VideoDataNpy/vid_tra_label.npy'\u001b[0m\u001b[0;34m,\u001b[0m \u001b[0mvid_tra_label\u001b[0m\u001b[0;34m)\u001b[0m\u001b[0;34m\u001b[0m\u001b[0m\n\u001b[1;32m      3\u001b[0m \u001b[0mnp\u001b[0m\u001b[0;34m.\u001b[0m\u001b[0msave\u001b[0m\u001b[0;34m(\u001b[0m\u001b[0;34m'VideoDataNpy/vid_tes.npy'\u001b[0m\u001b[0;34m,\u001b[0m \u001b[0mvid_tes\u001b[0m\u001b[0;34m)\u001b[0m\u001b[0;34m\u001b[0m\u001b[0m\n\u001b[1;32m      4\u001b[0m \u001b[0mnp\u001b[0m\u001b[0;34m.\u001b[0m\u001b[0msave\u001b[0m\u001b[0;34m(\u001b[0m\u001b[0;34m'VideoDataNpy/vid_tes_label.npy'\u001b[0m\u001b[0;34m,\u001b[0m \u001b[0mvid_tes_label\u001b[0m\u001b[0;34m)\u001b[0m\u001b[0;34m\u001b[0m\u001b[0m\n",
      "\u001b[0;31mNameError\u001b[0m: name 'vid_tra' is not defined"
     ]
    }
   ],
   "source": [
    "np.save('VideoDataNpy/vid_tra.npy', vid_tra)\n",
    "np.save('VideoDataNpy/vid_tra_label.npy', vid_tra_label)\n",
    "np.save('VideoDataNpy/vid_tes.npy', vid_tes)\n",
    "np.save('VideoDataNpy/vid_tes_label.npy', vid_tes_label)"
   ]
  },
  {
   "cell_type": "code",
   "execution_count": 6,
   "metadata": {
    "collapsed": true
   },
   "outputs": [],
   "source": [
    "trX = np.load('VideoDataNpy/vid_tra.npy')\n",
    "trY = np.load('VideoDataNpy/vid_tra_label.npy')"
   ]
  },
  {
   "cell_type": "code",
   "execution_count": 12,
   "metadata": {
    "collapsed": false
   },
   "outputs": [
    {
     "data": {
      "text/plain": [
       "(4000, 2)"
      ]
     },
     "execution_count": 12,
     "metadata": {},
     "output_type": "execute_result"
    }
   ],
   "source": [
    "trY.shape"
   ]
  },
  {
   "cell_type": "code",
   "execution_count": 23,
   "metadata": {
    "collapsed": false
   },
   "outputs": [
    {
     "data": {
      "text/plain": [
       "6771"
      ]
     },
     "execution_count": 23,
     "metadata": {},
     "output_type": "execute_result"
    }
   ],
   "source": [
    "np.argmax(trY)"
   ]
  },
  {
   "cell_type": "code",
   "execution_count": null,
   "metadata": {
    "collapsed": true
   },
   "outputs": [],
   "source": []
  }
 ],
 "metadata": {
  "kernelspec": {
   "display_name": "Python 3",
   "language": "python",
   "name": "python3"
  },
  "language_info": {
   "codemirror_mode": {
    "name": "ipython",
    "version": 3
   },
   "file_extension": ".py",
   "mimetype": "text/x-python",
   "name": "python",
   "nbconvert_exporter": "python",
   "pygments_lexer": "ipython3",
   "version": "3.6.0"
  }
 },
 "nbformat": 4,
 "nbformat_minor": 2
}
